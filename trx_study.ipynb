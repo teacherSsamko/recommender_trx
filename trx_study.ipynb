{
 "metadata": {
  "language_info": {
   "codemirror_mode": {
    "name": "ipython",
    "version": 3
   },
   "file_extension": ".py",
   "mimetype": "text/x-python",
   "name": "python",
   "nbconvert_exporter": "python",
   "pygments_lexer": "ipython3",
   "version": "3.8.5-final"
  },
  "orig_nbformat": 2,
  "kernelspec": {
   "name": "python3",
   "display_name": "Python 3.8.5 64-bit ('venv')",
   "metadata": {
    "interpreter": {
     "hash": "96593243c85e84e2563d0705c22c8499e1d09edbba422b2587bd78939d6a2bfe"
    }
   }
  }
 },
 "nbformat": 4,
 "nbformat_minor": 2,
 "cells": [
  {
   "cell_type": "code",
   "execution_count": 11,
   "metadata": {},
   "outputs": [
    {
     "output_type": "error",
     "ename": "ModuleNotFoundError",
     "evalue": "No module named 'sklearn.cross_validation'",
     "traceback": [
      "\u001b[0;31m---------------------------------------------------------------------------\u001b[0m",
      "\u001b[0;31mModuleNotFoundError\u001b[0m                       Traceback (most recent call last)",
      "\u001b[0;32m<ipython-input-11-fc01b8b8a6bf>\u001b[0m in \u001b[0;36m<module>\u001b[0;34m\u001b[0m\n\u001b[1;32m      5\u001b[0m \u001b[0;32mimport\u001b[0m \u001b[0mtime\u001b[0m\u001b[0;34m\u001b[0m\u001b[0;34m\u001b[0m\u001b[0m\n\u001b[1;32m      6\u001b[0m \u001b[0;31m# import turicreate as tc\u001b[0m\u001b[0;34m\u001b[0m\u001b[0;34m\u001b[0m\u001b[0;34m\u001b[0m\u001b[0m\n\u001b[0;32m----> 7\u001b[0;31m \u001b[0;32mfrom\u001b[0m \u001b[0msklearn\u001b[0m\u001b[0;34m.\u001b[0m\u001b[0mcross_validation\u001b[0m \u001b[0;32mimport\u001b[0m \u001b[0mtrain_test_split\u001b[0m\u001b[0;34m\u001b[0m\u001b[0;34m\u001b[0m\u001b[0m\n\u001b[0m",
      "\u001b[0;31mModuleNotFoundError\u001b[0m: No module named 'sklearn.cross_validation'"
     ]
    }
   ],
   "source": [
    "import sys\n",
    "\n",
    "import pandas as pd\n",
    "import numpy as np\n",
    "import time\n",
    "# import turicreate as tc\n",
    "from sklearn.cross_validation import train_test_split"
   ]
  },
  {
   "cell_type": "code",
   "execution_count": 24,
   "metadata": {
    "tags": []
   },
   "outputs": [
    {
     "output_type": "execute_result",
     "data": {
      "text/plain": [
       "              purchase_dt           uid gender   prod_id  \\\n",
       "0   2020-10-09 오후 6:59:14  201708425482      여  10175535   \n",
       "1   2020-10-13 오후 1:30:46  201708425482      여  10225923   \n",
       "2  2020-10-28 오후 12:46:03  201707295540      여  10229168   \n",
       "3   2020-10-04 오후 4:52:18  201712694758      남  10160229   \n",
       "4  2020-10-24 오후 12:16:10  201706321266      여  10208586   \n",
       "\n",
       "                   prod_name  order_count  cancle_count        order_id  \\\n",
       "0             숀리 다이어트킹 스쿼트머신            1             0  20201009992653   \n",
       "1       직세일 한경희 건강식 마스터 죽제조기            1             0  20201013100206   \n",
       "2             코코스윗 키즈 남아 10종            1             0  20201028382282   \n",
       "3  흥국화재파워라이프종합보험20.06_신세계상품권            1             0  20201004715571   \n",
       "4  20FW리더잭 여성웜기모밴딩데님3종(F453)            1             0  20201024898004   \n",
       "\n",
       "      settop_id  \n",
       "0    0010427579  \n",
       "1    0010427579  \n",
       "2  001632d78daa  \n",
       "3  001632fb6360  \n",
       "4  001632fddf03  "
      ],
      "text/html": "<div>\n<style scoped>\n    .dataframe tbody tr th:only-of-type {\n        vertical-align: middle;\n    }\n\n    .dataframe tbody tr th {\n        vertical-align: top;\n    }\n\n    .dataframe thead th {\n        text-align: right;\n    }\n</style>\n<table border=\"1\" class=\"dataframe\">\n  <thead>\n    <tr style=\"text-align: right;\">\n      <th></th>\n      <th>purchase_dt</th>\n      <th>uid</th>\n      <th>gender</th>\n      <th>prod_id</th>\n      <th>prod_name</th>\n      <th>order_count</th>\n      <th>cancle_count</th>\n      <th>order_id</th>\n      <th>settop_id</th>\n    </tr>\n  </thead>\n  <tbody>\n    <tr>\n      <th>0</th>\n      <td>2020-10-09 오후 6:59:14</td>\n      <td>201708425482</td>\n      <td>여</td>\n      <td>10175535</td>\n      <td>숀리 다이어트킹 스쿼트머신</td>\n      <td>1</td>\n      <td>0</td>\n      <td>20201009992653</td>\n      <td>0010427579</td>\n    </tr>\n    <tr>\n      <th>1</th>\n      <td>2020-10-13 오후 1:30:46</td>\n      <td>201708425482</td>\n      <td>여</td>\n      <td>10225923</td>\n      <td>직세일 한경희 건강식 마스터 죽제조기</td>\n      <td>1</td>\n      <td>0</td>\n      <td>20201013100206</td>\n      <td>0010427579</td>\n    </tr>\n    <tr>\n      <th>2</th>\n      <td>2020-10-28 오후 12:46:03</td>\n      <td>201707295540</td>\n      <td>여</td>\n      <td>10229168</td>\n      <td>코코스윗 키즈 남아 10종</td>\n      <td>1</td>\n      <td>0</td>\n      <td>20201028382282</td>\n      <td>001632d78daa</td>\n    </tr>\n    <tr>\n      <th>3</th>\n      <td>2020-10-04 오후 4:52:18</td>\n      <td>201712694758</td>\n      <td>남</td>\n      <td>10160229</td>\n      <td>흥국화재파워라이프종합보험20.06_신세계상품권</td>\n      <td>1</td>\n      <td>0</td>\n      <td>20201004715571</td>\n      <td>001632fb6360</td>\n    </tr>\n    <tr>\n      <th>4</th>\n      <td>2020-10-24 오후 12:16:10</td>\n      <td>201706321266</td>\n      <td>여</td>\n      <td>10208586</td>\n      <td>20FW리더잭 여성웜기모밴딩데님3종(F453)</td>\n      <td>1</td>\n      <td>0</td>\n      <td>20201024898004</td>\n      <td>001632fddf03</td>\n    </tr>\n  </tbody>\n</table>\n</div>"
     },
     "metadata": {},
     "execution_count": 24
    }
   ],
   "source": [
    "transaction = pd.read_csv('transaction.csv')\n",
    "\n",
    "customers = transaction[['settop_id','gender']]\n",
    "trx = transaction[['settop_id', 'prod_id', 'order_count', 'purchase_dt']]\n",
    "transaction.head()"
   ]
  },
  {
   "cell_type": "code",
   "execution_count": 19,
   "metadata": {},
   "outputs": [
    {
     "output_type": "execute_result",
     "data": {
      "text/plain": [
       "      settop_id gender\n",
       "0    0010427579      여\n",
       "1    0010427579      여\n",
       "2  001632d78daa      여\n",
       "3  001632fb6360      남\n",
       "4  001632fddf03      여"
      ],
      "text/html": "<div>\n<style scoped>\n    .dataframe tbody tr th:only-of-type {\n        vertical-align: middle;\n    }\n\n    .dataframe tbody tr th {\n        vertical-align: top;\n    }\n\n    .dataframe thead th {\n        text-align: right;\n    }\n</style>\n<table border=\"1\" class=\"dataframe\">\n  <thead>\n    <tr style=\"text-align: right;\">\n      <th></th>\n      <th>settop_id</th>\n      <th>gender</th>\n    </tr>\n  </thead>\n  <tbody>\n    <tr>\n      <th>0</th>\n      <td>0010427579</td>\n      <td>여</td>\n    </tr>\n    <tr>\n      <th>1</th>\n      <td>0010427579</td>\n      <td>여</td>\n    </tr>\n    <tr>\n      <th>2</th>\n      <td>001632d78daa</td>\n      <td>여</td>\n    </tr>\n    <tr>\n      <th>3</th>\n      <td>001632fb6360</td>\n      <td>남</td>\n    </tr>\n    <tr>\n      <th>4</th>\n      <td>001632fddf03</td>\n      <td>여</td>\n    </tr>\n  </tbody>\n</table>\n</div>"
     },
     "metadata": {},
     "execution_count": 19
    }
   ],
   "source": [
    "customers.head()"
   ]
  },
  {
   "cell_type": "code",
   "execution_count": 25,
   "metadata": {},
   "outputs": [
    {
     "output_type": "execute_result",
     "data": {
      "text/plain": [
       "      settop_id   prod_id  order_count             purchase_dt\n",
       "0    0010427579  10175535            1   2020-10-09 오후 6:59:14\n",
       "1    0010427579  10225923            1   2020-10-13 오후 1:30:46\n",
       "2  001632d78daa  10229168            1  2020-10-28 오후 12:46:03\n",
       "3  001632fb6360  10160229            1   2020-10-04 오후 4:52:18\n",
       "4  001632fddf03  10208586            1  2020-10-24 오후 12:16:10"
      ],
      "text/html": "<div>\n<style scoped>\n    .dataframe tbody tr th:only-of-type {\n        vertical-align: middle;\n    }\n\n    .dataframe tbody tr th {\n        vertical-align: top;\n    }\n\n    .dataframe thead th {\n        text-align: right;\n    }\n</style>\n<table border=\"1\" class=\"dataframe\">\n  <thead>\n    <tr style=\"text-align: right;\">\n      <th></th>\n      <th>settop_id</th>\n      <th>prod_id</th>\n      <th>order_count</th>\n      <th>purchase_dt</th>\n    </tr>\n  </thead>\n  <tbody>\n    <tr>\n      <th>0</th>\n      <td>0010427579</td>\n      <td>10175535</td>\n      <td>1</td>\n      <td>2020-10-09 오후 6:59:14</td>\n    </tr>\n    <tr>\n      <th>1</th>\n      <td>0010427579</td>\n      <td>10225923</td>\n      <td>1</td>\n      <td>2020-10-13 오후 1:30:46</td>\n    </tr>\n    <tr>\n      <th>2</th>\n      <td>001632d78daa</td>\n      <td>10229168</td>\n      <td>1</td>\n      <td>2020-10-28 오후 12:46:03</td>\n    </tr>\n    <tr>\n      <th>3</th>\n      <td>001632fb6360</td>\n      <td>10160229</td>\n      <td>1</td>\n      <td>2020-10-04 오후 4:52:18</td>\n    </tr>\n    <tr>\n      <th>4</th>\n      <td>001632fddf03</td>\n      <td>10208586</td>\n      <td>1</td>\n      <td>2020-10-24 오후 12:16:10</td>\n    </tr>\n  </tbody>\n</table>\n</div>"
     },
     "metadata": {},
     "execution_count": 25
    }
   ],
   "source": [
    "trx.head()"
   ]
  },
  {
   "cell_type": "code",
   "execution_count": 28,
   "metadata": {},
   "outputs": [],
   "source": [
    "data = pd.melt(trx.set_index('settop_id')['prod_id'].apply(pd.Series).reset_index(), \n",
    "             id_vars=['settop_id'],\n",
    "             value_name='products') \\\n",
    "    .dropna().drop(['variable'], axis=1) \\\n",
    "    .groupby(['settop_id', 'products']) \\\n",
    "    .agg({'products': 'count'}) \\\n",
    "    .rename(columns={'products': 'order_count'}) \\\n",
    "    .reset_index() \\\n",
    "    .rename(columns={'products': 'prod_id'})\n",
    "data['prod_id'] = data['prod_id'].astype(np.int64)"
   ]
  },
  {
   "cell_type": "code",
   "execution_count": 29,
   "metadata": {},
   "outputs": [
    {
     "output_type": "execute_result",
     "data": {
      "text/plain": [
       "                              settop_id   prod_id  order_count\n",
       "0  000029EC-8BAC-11DE-B0D3-BB8606F0C478  10103773            1\n",
       "1  000029EC-8BAC-11DE-B0D3-BB8606F0C478  10123399            1\n",
       "2  000029EC-8BAC-11DE-B0D3-BB8606F0C478  10132254            1\n",
       "3  000029EC-8BAC-11DE-B0D3-BB8606F0C478  10132255            1\n",
       "4  00003389-7F49-11E3-BD90-577F9A9EAEE5  10093197            1"
      ],
      "text/html": "<div>\n<style scoped>\n    .dataframe tbody tr th:only-of-type {\n        vertical-align: middle;\n    }\n\n    .dataframe tbody tr th {\n        vertical-align: top;\n    }\n\n    .dataframe thead th {\n        text-align: right;\n    }\n</style>\n<table border=\"1\" class=\"dataframe\">\n  <thead>\n    <tr style=\"text-align: right;\">\n      <th></th>\n      <th>settop_id</th>\n      <th>prod_id</th>\n      <th>order_count</th>\n    </tr>\n  </thead>\n  <tbody>\n    <tr>\n      <th>0</th>\n      <td>000029EC-8BAC-11DE-B0D3-BB8606F0C478</td>\n      <td>10103773</td>\n      <td>1</td>\n    </tr>\n    <tr>\n      <th>1</th>\n      <td>000029EC-8BAC-11DE-B0D3-BB8606F0C478</td>\n      <td>10123399</td>\n      <td>1</td>\n    </tr>\n    <tr>\n      <th>2</th>\n      <td>000029EC-8BAC-11DE-B0D3-BB8606F0C478</td>\n      <td>10132254</td>\n      <td>1</td>\n    </tr>\n    <tr>\n      <th>3</th>\n      <td>000029EC-8BAC-11DE-B0D3-BB8606F0C478</td>\n      <td>10132255</td>\n      <td>1</td>\n    </tr>\n    <tr>\n      <th>4</th>\n      <td>00003389-7F49-11E3-BD90-577F9A9EAEE5</td>\n      <td>10093197</td>\n      <td>1</td>\n    </tr>\n  </tbody>\n</table>\n</div>"
     },
     "metadata": {},
     "execution_count": 29
    }
   ],
   "source": [
    "data.head()"
   ]
  },
  {
   "cell_type": "code",
   "execution_count": 30,
   "metadata": {},
   "outputs": [],
   "source": [
    "def create_data_dummy(data):\n",
    "    data_dummy = data.copy()\n",
    "    data_dummy['purchase_dummy'] = 1\n",
    "    return data_dummy\n",
    "data_dummy = create_data_dummy(data)"
   ]
  },
  {
   "cell_type": "code",
   "execution_count": 31,
   "metadata": {},
   "outputs": [],
   "source": [
    "df_matrix = pd.pivot_table(data, values='order_count', index='settop_id', columns='prod_id')"
   ]
  },
  {
   "cell_type": "code",
   "execution_count": 33,
   "metadata": {},
   "outputs": [
    {
     "output_type": "execute_result",
     "data": {
      "text/plain": [
       "prod_id                               10000148  10000499  10000823  10001064  \\\n",
       "settop_id                                                                      \n",
       "000029EC-8BAC-11DE-B0D3-BB8606F0C478       NaN       NaN       NaN       NaN   \n",
       "00003389-7F49-11E3-BD90-577F9A9EAEE5       NaN       NaN       NaN       NaN   \n",
       "00097154-FAB9-11E4-B376-51F48D49EFCC       NaN       NaN       NaN       NaN   \n",
       "000F8E38-C42C-11E1-8F8A-5353790B8755       NaN       NaN       NaN       NaN   \n",
       "0010408978                                 NaN       NaN       NaN       NaN   \n",
       "\n",
       "prod_id                               10001342  10002505  10002518  10002711  \\\n",
       "settop_id                                                                      \n",
       "000029EC-8BAC-11DE-B0D3-BB8606F0C478       NaN       NaN       NaN       NaN   \n",
       "00003389-7F49-11E3-BD90-577F9A9EAEE5       NaN       NaN       NaN       NaN   \n",
       "00097154-FAB9-11E4-B376-51F48D49EFCC       NaN       NaN       NaN       NaN   \n",
       "000F8E38-C42C-11E1-8F8A-5353790B8755       NaN       NaN       NaN       NaN   \n",
       "0010408978                                 NaN       NaN       NaN       NaN   \n",
       "\n",
       "prod_id                               10002869  10003991  ...  10244227  \\\n",
       "settop_id                                                 ...             \n",
       "000029EC-8BAC-11DE-B0D3-BB8606F0C478       NaN       NaN  ...       NaN   \n",
       "00003389-7F49-11E3-BD90-577F9A9EAEE5       NaN       NaN  ...       NaN   \n",
       "00097154-FAB9-11E4-B376-51F48D49EFCC       NaN       NaN  ...       NaN   \n",
       "000F8E38-C42C-11E1-8F8A-5353790B8755       NaN       NaN  ...       NaN   \n",
       "0010408978                                 NaN       NaN  ...       NaN   \n",
       "\n",
       "prod_id                               10244327  10244328  10244349  10244595  \\\n",
       "settop_id                                                                      \n",
       "000029EC-8BAC-11DE-B0D3-BB8606F0C478       NaN       NaN       NaN       NaN   \n",
       "00003389-7F49-11E3-BD90-577F9A9EAEE5       NaN       NaN       NaN       NaN   \n",
       "00097154-FAB9-11E4-B376-51F48D49EFCC       NaN       NaN       NaN       NaN   \n",
       "000F8E38-C42C-11E1-8F8A-5353790B8755       NaN       NaN       NaN       NaN   \n",
       "0010408978                                 NaN       NaN       NaN       NaN   \n",
       "\n",
       "prod_id                               10244622  10245186  10245321  10246451  \\\n",
       "settop_id                                                                      \n",
       "000029EC-8BAC-11DE-B0D3-BB8606F0C478       NaN       NaN       NaN       NaN   \n",
       "00003389-7F49-11E3-BD90-577F9A9EAEE5       NaN       NaN       NaN       NaN   \n",
       "00097154-FAB9-11E4-B376-51F48D49EFCC       NaN       NaN       NaN       NaN   \n",
       "000F8E38-C42C-11E1-8F8A-5353790B8755       NaN       NaN       NaN       NaN   \n",
       "0010408978                                 NaN       NaN       NaN       NaN   \n",
       "\n",
       "prod_id                               10246870  \n",
       "settop_id                                       \n",
       "000029EC-8BAC-11DE-B0D3-BB8606F0C478       NaN  \n",
       "00003389-7F49-11E3-BD90-577F9A9EAEE5       NaN  \n",
       "00097154-FAB9-11E4-B376-51F48D49EFCC       NaN  \n",
       "000F8E38-C42C-11E1-8F8A-5353790B8755       NaN  \n",
       "0010408978                                 NaN  \n",
       "\n",
       "[5 rows x 12462 columns]"
      ],
      "text/html": "<div>\n<style scoped>\n    .dataframe tbody tr th:only-of-type {\n        vertical-align: middle;\n    }\n\n    .dataframe tbody tr th {\n        vertical-align: top;\n    }\n\n    .dataframe thead th {\n        text-align: right;\n    }\n</style>\n<table border=\"1\" class=\"dataframe\">\n  <thead>\n    <tr style=\"text-align: right;\">\n      <th>prod_id</th>\n      <th>10000148</th>\n      <th>10000499</th>\n      <th>10000823</th>\n      <th>10001064</th>\n      <th>10001342</th>\n      <th>10002505</th>\n      <th>10002518</th>\n      <th>10002711</th>\n      <th>10002869</th>\n      <th>10003991</th>\n      <th>...</th>\n      <th>10244227</th>\n      <th>10244327</th>\n      <th>10244328</th>\n      <th>10244349</th>\n      <th>10244595</th>\n      <th>10244622</th>\n      <th>10245186</th>\n      <th>10245321</th>\n      <th>10246451</th>\n      <th>10246870</th>\n    </tr>\n    <tr>\n      <th>settop_id</th>\n      <th></th>\n      <th></th>\n      <th></th>\n      <th></th>\n      <th></th>\n      <th></th>\n      <th></th>\n      <th></th>\n      <th></th>\n      <th></th>\n      <th></th>\n      <th></th>\n      <th></th>\n      <th></th>\n      <th></th>\n      <th></th>\n      <th></th>\n      <th></th>\n      <th></th>\n      <th></th>\n      <th></th>\n    </tr>\n  </thead>\n  <tbody>\n    <tr>\n      <th>000029EC-8BAC-11DE-B0D3-BB8606F0C478</th>\n      <td>NaN</td>\n      <td>NaN</td>\n      <td>NaN</td>\n      <td>NaN</td>\n      <td>NaN</td>\n      <td>NaN</td>\n      <td>NaN</td>\n      <td>NaN</td>\n      <td>NaN</td>\n      <td>NaN</td>\n      <td>...</td>\n      <td>NaN</td>\n      <td>NaN</td>\n      <td>NaN</td>\n      <td>NaN</td>\n      <td>NaN</td>\n      <td>NaN</td>\n      <td>NaN</td>\n      <td>NaN</td>\n      <td>NaN</td>\n      <td>NaN</td>\n    </tr>\n    <tr>\n      <th>00003389-7F49-11E3-BD90-577F9A9EAEE5</th>\n      <td>NaN</td>\n      <td>NaN</td>\n      <td>NaN</td>\n      <td>NaN</td>\n      <td>NaN</td>\n      <td>NaN</td>\n      <td>NaN</td>\n      <td>NaN</td>\n      <td>NaN</td>\n      <td>NaN</td>\n      <td>...</td>\n      <td>NaN</td>\n      <td>NaN</td>\n      <td>NaN</td>\n      <td>NaN</td>\n      <td>NaN</td>\n      <td>NaN</td>\n      <td>NaN</td>\n      <td>NaN</td>\n      <td>NaN</td>\n      <td>NaN</td>\n    </tr>\n    <tr>\n      <th>00097154-FAB9-11E4-B376-51F48D49EFCC</th>\n      <td>NaN</td>\n      <td>NaN</td>\n      <td>NaN</td>\n      <td>NaN</td>\n      <td>NaN</td>\n      <td>NaN</td>\n      <td>NaN</td>\n      <td>NaN</td>\n      <td>NaN</td>\n      <td>NaN</td>\n      <td>...</td>\n      <td>NaN</td>\n      <td>NaN</td>\n      <td>NaN</td>\n      <td>NaN</td>\n      <td>NaN</td>\n      <td>NaN</td>\n      <td>NaN</td>\n      <td>NaN</td>\n      <td>NaN</td>\n      <td>NaN</td>\n    </tr>\n    <tr>\n      <th>000F8E38-C42C-11E1-8F8A-5353790B8755</th>\n      <td>NaN</td>\n      <td>NaN</td>\n      <td>NaN</td>\n      <td>NaN</td>\n      <td>NaN</td>\n      <td>NaN</td>\n      <td>NaN</td>\n      <td>NaN</td>\n      <td>NaN</td>\n      <td>NaN</td>\n      <td>...</td>\n      <td>NaN</td>\n      <td>NaN</td>\n      <td>NaN</td>\n      <td>NaN</td>\n      <td>NaN</td>\n      <td>NaN</td>\n      <td>NaN</td>\n      <td>NaN</td>\n      <td>NaN</td>\n      <td>NaN</td>\n    </tr>\n    <tr>\n      <th>0010408978</th>\n      <td>NaN</td>\n      <td>NaN</td>\n      <td>NaN</td>\n      <td>NaN</td>\n      <td>NaN</td>\n      <td>NaN</td>\n      <td>NaN</td>\n      <td>NaN</td>\n      <td>NaN</td>\n      <td>NaN</td>\n      <td>...</td>\n      <td>NaN</td>\n      <td>NaN</td>\n      <td>NaN</td>\n      <td>NaN</td>\n      <td>NaN</td>\n      <td>NaN</td>\n      <td>NaN</td>\n      <td>NaN</td>\n      <td>NaN</td>\n      <td>NaN</td>\n    </tr>\n  </tbody>\n</table>\n<p>5 rows × 12462 columns</p>\n</div>"
     },
     "metadata": {},
     "execution_count": 33
    }
   ],
   "source": [
    "df_matrix.head()"
   ]
  },
  {
   "cell_type": "code",
   "execution_count": 32,
   "metadata": {},
   "outputs": [],
   "source": [
    "df_matrix_norm = (df_matrix - df_matrix.min()) / (df_matrix.max() - df_matrix.min())"
   ]
  },
  {
   "cell_type": "code",
   "execution_count": 34,
   "metadata": {},
   "outputs": [
    {
     "output_type": "execute_result",
     "data": {
      "text/plain": [
       "prod_id                               10000148  10000499  10000823  10001064  \\\n",
       "settop_id                                                                      \n",
       "000029EC-8BAC-11DE-B0D3-BB8606F0C478       NaN       NaN       NaN       NaN   \n",
       "00003389-7F49-11E3-BD90-577F9A9EAEE5       NaN       NaN       NaN       NaN   \n",
       "00097154-FAB9-11E4-B376-51F48D49EFCC       NaN       NaN       NaN       NaN   \n",
       "000F8E38-C42C-11E1-8F8A-5353790B8755       NaN       NaN       NaN       NaN   \n",
       "0010408978                                 NaN       NaN       NaN       NaN   \n",
       "\n",
       "prod_id                               10001342  10002505  10002518  10002711  \\\n",
       "settop_id                                                                      \n",
       "000029EC-8BAC-11DE-B0D3-BB8606F0C478       NaN       NaN       NaN       NaN   \n",
       "00003389-7F49-11E3-BD90-577F9A9EAEE5       NaN       NaN       NaN       NaN   \n",
       "00097154-FAB9-11E4-B376-51F48D49EFCC       NaN       NaN       NaN       NaN   \n",
       "000F8E38-C42C-11E1-8F8A-5353790B8755       NaN       NaN       NaN       NaN   \n",
       "0010408978                                 NaN       NaN       NaN       NaN   \n",
       "\n",
       "prod_id                               10002869  10003991  ...  10244227  \\\n",
       "settop_id                                                 ...             \n",
       "000029EC-8BAC-11DE-B0D3-BB8606F0C478       NaN       NaN  ...       NaN   \n",
       "00003389-7F49-11E3-BD90-577F9A9EAEE5       NaN       NaN  ...       NaN   \n",
       "00097154-FAB9-11E4-B376-51F48D49EFCC       NaN       NaN  ...       NaN   \n",
       "000F8E38-C42C-11E1-8F8A-5353790B8755       NaN       NaN  ...       NaN   \n",
       "0010408978                                 NaN       NaN  ...       NaN   \n",
       "\n",
       "prod_id                               10244327  10244328  10244349  10244595  \\\n",
       "settop_id                                                                      \n",
       "000029EC-8BAC-11DE-B0D3-BB8606F0C478       NaN       NaN       NaN       NaN   \n",
       "00003389-7F49-11E3-BD90-577F9A9EAEE5       NaN       NaN       NaN       NaN   \n",
       "00097154-FAB9-11E4-B376-51F48D49EFCC       NaN       NaN       NaN       NaN   \n",
       "000F8E38-C42C-11E1-8F8A-5353790B8755       NaN       NaN       NaN       NaN   \n",
       "0010408978                                 NaN       NaN       NaN       NaN   \n",
       "\n",
       "prod_id                               10244622  10245186  10245321  10246451  \\\n",
       "settop_id                                                                      \n",
       "000029EC-8BAC-11DE-B0D3-BB8606F0C478       NaN       NaN       NaN       NaN   \n",
       "00003389-7F49-11E3-BD90-577F9A9EAEE5       NaN       NaN       NaN       NaN   \n",
       "00097154-FAB9-11E4-B376-51F48D49EFCC       NaN       NaN       NaN       NaN   \n",
       "000F8E38-C42C-11E1-8F8A-5353790B8755       NaN       NaN       NaN       NaN   \n",
       "0010408978                                 NaN       NaN       NaN       NaN   \n",
       "\n",
       "prod_id                               10246870  \n",
       "settop_id                                       \n",
       "000029EC-8BAC-11DE-B0D3-BB8606F0C478       NaN  \n",
       "00003389-7F49-11E3-BD90-577F9A9EAEE5       NaN  \n",
       "00097154-FAB9-11E4-B376-51F48D49EFCC       NaN  \n",
       "000F8E38-C42C-11E1-8F8A-5353790B8755       NaN  \n",
       "0010408978                                 NaN  \n",
       "\n",
       "[5 rows x 12462 columns]"
      ],
      "text/html": "<div>\n<style scoped>\n    .dataframe tbody tr th:only-of-type {\n        vertical-align: middle;\n    }\n\n    .dataframe tbody tr th {\n        vertical-align: top;\n    }\n\n    .dataframe thead th {\n        text-align: right;\n    }\n</style>\n<table border=\"1\" class=\"dataframe\">\n  <thead>\n    <tr style=\"text-align: right;\">\n      <th>prod_id</th>\n      <th>10000148</th>\n      <th>10000499</th>\n      <th>10000823</th>\n      <th>10001064</th>\n      <th>10001342</th>\n      <th>10002505</th>\n      <th>10002518</th>\n      <th>10002711</th>\n      <th>10002869</th>\n      <th>10003991</th>\n      <th>...</th>\n      <th>10244227</th>\n      <th>10244327</th>\n      <th>10244328</th>\n      <th>10244349</th>\n      <th>10244595</th>\n      <th>10244622</th>\n      <th>10245186</th>\n      <th>10245321</th>\n      <th>10246451</th>\n      <th>10246870</th>\n    </tr>\n    <tr>\n      <th>settop_id</th>\n      <th></th>\n      <th></th>\n      <th></th>\n      <th></th>\n      <th></th>\n      <th></th>\n      <th></th>\n      <th></th>\n      <th></th>\n      <th></th>\n      <th></th>\n      <th></th>\n      <th></th>\n      <th></th>\n      <th></th>\n      <th></th>\n      <th></th>\n      <th></th>\n      <th></th>\n      <th></th>\n      <th></th>\n    </tr>\n  </thead>\n  <tbody>\n    <tr>\n      <th>000029EC-8BAC-11DE-B0D3-BB8606F0C478</th>\n      <td>NaN</td>\n      <td>NaN</td>\n      <td>NaN</td>\n      <td>NaN</td>\n      <td>NaN</td>\n      <td>NaN</td>\n      <td>NaN</td>\n      <td>NaN</td>\n      <td>NaN</td>\n      <td>NaN</td>\n      <td>...</td>\n      <td>NaN</td>\n      <td>NaN</td>\n      <td>NaN</td>\n      <td>NaN</td>\n      <td>NaN</td>\n      <td>NaN</td>\n      <td>NaN</td>\n      <td>NaN</td>\n      <td>NaN</td>\n      <td>NaN</td>\n    </tr>\n    <tr>\n      <th>00003389-7F49-11E3-BD90-577F9A9EAEE5</th>\n      <td>NaN</td>\n      <td>NaN</td>\n      <td>NaN</td>\n      <td>NaN</td>\n      <td>NaN</td>\n      <td>NaN</td>\n      <td>NaN</td>\n      <td>NaN</td>\n      <td>NaN</td>\n      <td>NaN</td>\n      <td>...</td>\n      <td>NaN</td>\n      <td>NaN</td>\n      <td>NaN</td>\n      <td>NaN</td>\n      <td>NaN</td>\n      <td>NaN</td>\n      <td>NaN</td>\n      <td>NaN</td>\n      <td>NaN</td>\n      <td>NaN</td>\n    </tr>\n    <tr>\n      <th>00097154-FAB9-11E4-B376-51F48D49EFCC</th>\n      <td>NaN</td>\n      <td>NaN</td>\n      <td>NaN</td>\n      <td>NaN</td>\n      <td>NaN</td>\n      <td>NaN</td>\n      <td>NaN</td>\n      <td>NaN</td>\n      <td>NaN</td>\n      <td>NaN</td>\n      <td>...</td>\n      <td>NaN</td>\n      <td>NaN</td>\n      <td>NaN</td>\n      <td>NaN</td>\n      <td>NaN</td>\n      <td>NaN</td>\n      <td>NaN</td>\n      <td>NaN</td>\n      <td>NaN</td>\n      <td>NaN</td>\n    </tr>\n    <tr>\n      <th>000F8E38-C42C-11E1-8F8A-5353790B8755</th>\n      <td>NaN</td>\n      <td>NaN</td>\n      <td>NaN</td>\n      <td>NaN</td>\n      <td>NaN</td>\n      <td>NaN</td>\n      <td>NaN</td>\n      <td>NaN</td>\n      <td>NaN</td>\n      <td>NaN</td>\n      <td>...</td>\n      <td>NaN</td>\n      <td>NaN</td>\n      <td>NaN</td>\n      <td>NaN</td>\n      <td>NaN</td>\n      <td>NaN</td>\n      <td>NaN</td>\n      <td>NaN</td>\n      <td>NaN</td>\n      <td>NaN</td>\n    </tr>\n    <tr>\n      <th>0010408978</th>\n      <td>NaN</td>\n      <td>NaN</td>\n      <td>NaN</td>\n      <td>NaN</td>\n      <td>NaN</td>\n      <td>NaN</td>\n      <td>NaN</td>\n      <td>NaN</td>\n      <td>NaN</td>\n      <td>NaN</td>\n      <td>...</td>\n      <td>NaN</td>\n      <td>NaN</td>\n      <td>NaN</td>\n      <td>NaN</td>\n      <td>NaN</td>\n      <td>NaN</td>\n      <td>NaN</td>\n      <td>NaN</td>\n      <td>NaN</td>\n      <td>NaN</td>\n    </tr>\n  </tbody>\n</table>\n<p>5 rows × 12462 columns</p>\n</div>"
     },
     "metadata": {},
     "execution_count": 34
    }
   ],
   "source": [
    "df_matrix_norm.head()"
   ]
  },
  {
   "source": [
    "create a table for input to the modeling"
   ],
   "cell_type": "markdown",
   "metadata": {}
  },
  {
   "cell_type": "code",
   "execution_count": 35,
   "metadata": {},
   "outputs": [],
   "source": [
    "d = df_matrix_norm.reset_index()\n",
    "d.index.names = ['scaled_purchase_freq']\n",
    "data_norm = pd.melt(d, id_vars=['settop_id'], value_name='scaled_purchased_freq').dropna()"
   ]
  },
  {
   "source": [
    "The above steps can be combined to a function defined below:\n"
   ],
   "cell_type": "markdown",
   "metadata": {}
  },
  {
   "cell_type": "code",
   "execution_count": null,
   "metadata": {},
   "outputs": [],
   "source": [
    "def normalize_data(data):\n",
    "    df_matrix = pd.pivot_table(data, values='order_count', index='settopd_id', columns='prod_id')\n",
    "    df_matrix_norm = (df_matrix - df_matrix.min()) / (df_matrix.max() - df_matrix.min())\n",
    "    d = df_matrix_norm.reset_index()\n",
    "    d.index.names = ['scaled_purchase_freq']\n",
    "\n",
    "    return pd.melt(d, id_vars=['settop_id'], value_name='scaled_purchase_freq').dropna()"
   ]
  },
  {
   "cell_type": "code",
   "execution_count": null,
   "metadata": {},
   "outputs": [],
   "source": [
    "def split_data(data):\n",
    "    \"\"\"\n",
    "    Splits dataset into training and test set.\n",
    "\n",
    "    Args:\n",
    "        data (pandas.DataFrame)\n",
    "    Returns\n",
    "        train_data (tc.SFrame)\n",
    "        test_data (tc.SFrame)\n",
    "    \"\"\"\n",
    "    train, test = train_test_split(data, test_size = .2)\n",
    "    train_data = tc.SFrame(train)\n",
    "    test_data = tc.SFrame(test)\n",
    "    return train_data, test_data"
   ]
  },
  {
   "cell_type": "code",
   "execution_count": null,
   "metadata": {},
   "outputs": [],
   "source": [
    "train_data, test_data = split_data(data)\n",
    "train_data_dummy, test_data_dummy = split_data(data_dummy)\n",
    "train_data_norm, test_data_norm = slit_data(data_norm)"
   ]
  },
  {
   "cell_type": "code",
   "execution_count": null,
   "metadata": {},
   "outputs": [],
   "source": []
  }
 ]
}